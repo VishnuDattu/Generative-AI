{
  "nbformat": 4,
  "nbformat_minor": 0,
  "metadata": {
    "colab": {
      "provenance": [],
      "authorship_tag": "ABX9TyPJrHzVg9NWAMyl8oOQ88FC",
      "include_colab_link": true
    },
    "kernelspec": {
      "name": "python3",
      "display_name": "Python 3"
    },
    "language_info": {
      "name": "python"
    }
  },
  "cells": [
    {
      "cell_type": "markdown",
      "metadata": {
        "id": "view-in-github",
        "colab_type": "text"
      },
      "source": [
        "<a href=\"https://colab.research.google.com/github/VishnuDattu/Generative-AI/blob/main/Gen_AI_ASS_1.ipynb\" target=\"_parent\"><img src=\"https://colab.research.google.com/assets/colab-badge.svg\" alt=\"Open In Colab\"/></a>"
      ]
    },
    {
      "cell_type": "code",
      "execution_count": 2,
      "metadata": {
        "colab": {
          "base_uri": "https://localhost:8080/"
        },
        "id": "Dz-KEh4Vv5Gq",
        "outputId": "5ac796d9-e131-4480-f870-f4d8aa029f74"
      },
      "outputs": [
        {
          "output_type": "stream",
          "name": "stdout",
          "text": [
            "Manual Calculations:\n",
            "Mean Absolute Error (MAE): 0.4600000000000016\n",
            "Mean Squared Error (MSE): 0.24600000000000147\n",
            "Root Mean Squared Error (RMSE): 0.49598387070549127\n"
          ]
        }
      ],
      "source": [
        "import numpy as np\n",
        "from sklearn.metrics import mean_absolute_error, mean_squared_error\n",
        "\n",
        "y_actual = np.array([20, 30, 40, 50, 60])\n",
        "y_pred = np.array([20.5, 30.3, 40.2, 50.6, 60.7])\n",
        "\n",
        "mae_manual = np.mean(np.abs(y_actual - y_pred))\n",
        "mse_manual = np.mean((y_actual - y_pred) ** 2)\n",
        "rmse_manual = np.sqrt(mse_manual)\n",
        "mae_sklearn = mean_absolute_error(y_actual, y_pred)\n",
        "mse_sklearn = mean_squared_error(y_actual, y_pred)\n",
        "rmse_sklearn = np.sqrt(mse_sklearn)\n",
        "\n",
        "print(\"Manual Calculations:\")\n",
        "print(f\"Mean Absolute Error (MAE): {mae_manual}\")\n",
        "print(f\"Mean Squared Error (MSE): {mse_manual}\")\n",
        "print(f\"Root Mean Squared Error (RMSE): {rmse_manual}\")"
      ]
    },
    {
      "cell_type": "code",
      "source": [
        "import numpy as np\n",
        "from sklearn.metrics import accuracy_score, precision_score, recall_score, f1_score, classification_report\n",
        "\n",
        "y_actual = np.array([0, 0, 1, 1, 2, 0, 0, 1, 1, 2, 2, 0, 0, 2, 1, 0, 2, 2, 0, 2, 1, 2, 2, 2])\n",
        "y_pred = np.array([0, 0, 1, 0, 2, 0, 0, 1, 1, 2, 2, 1, 2, 1, 0, 2, 2, 2, 0, 2, 1, 0, 2, 2])\n",
        "accuracy_manual = np.sum(y_actual == y_pred) / len(y_actual)\n",
        "accuracy_sklearn = accuracy_score(y_actual, y_pred)\n",
        "precision_sklearn = precision_score(y_actual, y_pred, average='weighted')\n",
        "recall_sklearn = recall_score(y_actual, y_pred, average='weighted')\n",
        "f1_sklearn = f1_score(y_actual, y_pred, average='weighted')\n",
        "classification_report_sklearn = classification_report(y_actual, y_pred)\n",
        "\n",
        "print(\"Manual Calculations:\")\n",
        "print(\"Using sklearn:\")\n",
        "print(f\"Accuracy: {accuracy_sklearn:.4f}\")\n",
        "print(f\"Precision (weighted): {precision_sklearn:.4f}\")\n",
        "print(f\"Recall (weighted): {recall_sklearn:.4f}\")\n",
        "print(f\"F1-Score (weighted): {f1_sklearn:.4f}\")\n",
        "print(\"\\nDetailed Classification Report (sklearn):\")\n",
        "print(classification_report_sklearn)"
      ],
      "metadata": {
        "colab": {
          "base_uri": "https://localhost:8080/"
        },
        "id": "q2ZcSeENxTbg",
        "outputId": "6329c997-6431-400a-b5b4-0ad75ae8d862"
      },
      "execution_count": 5,
      "outputs": [
        {
          "output_type": "stream",
          "name": "stdout",
          "text": [
            "Manual Calculations:\n",
            "Using sklearn:\n",
            "Accuracy: 0.7083\n",
            "Precision (weighted): 0.7083\n",
            "Recall (weighted): 0.7083\n",
            "F1-Score (weighted): 0.7083\n",
            "\n",
            "Detailed Classification Report (sklearn):\n",
            "              precision    recall  f1-score   support\n",
            "\n",
            "           0       0.62      0.62      0.62         8\n",
            "           1       0.67      0.67      0.67         6\n",
            "           2       0.80      0.80      0.80        10\n",
            "\n",
            "    accuracy                           0.71        24\n",
            "   macro avg       0.70      0.70      0.70        24\n",
            "weighted avg       0.71      0.71      0.71        24\n",
            "\n"
          ]
        }
      ]
    }
  ]
}