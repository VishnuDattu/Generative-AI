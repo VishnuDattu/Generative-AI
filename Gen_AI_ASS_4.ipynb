{
  "nbformat": 4,
  "nbformat_minor": 0,
  "metadata": {
    "colab": {
      "provenance": [],
      "authorship_tag": "ABX9TyPhite6+xMNaeWx01AJU+jh",
      "include_colab_link": true
    },
    "kernelspec": {
      "name": "python3",
      "display_name": "Python 3"
    },
    "language_info": {
      "name": "python"
    }
  },
  "cells": [
    {
      "cell_type": "markdown",
      "metadata": {
        "id": "view-in-github",
        "colab_type": "text"
      },
      "source": [
        "<a href=\"https://colab.research.google.com/github/VishnuDattu/Generative-AI/blob/main/Gen_AI_ASS_4.ipynb\" target=\"_parent\"><img src=\"https://colab.research.google.com/assets/colab-badge.svg\" alt=\"Open In Colab\"/></a>"
      ]
    },
    {
      "cell_type": "code",
      "source": [
        "import numpy as np\n",
        "\n",
        "X_train = np.array([[0.1, 0.2, 0.3],\n",
        "                     [0.2, 0.3, 0.4],\n",
        "                     [0.3, 0.4, 0.5],\n",
        "                     [0.5, 0.6, 0.7],\n",
        "                     [0.1, 0.3, 0.5],\n",
        "                     [0.2, 0.4, 0.6],\n",
        "                     [0.3, 0.5, 0.7],\n",
        "                     [0.4, 0.6, 0.8],\n",
        "                     [0.5, 0.7, 0.1]])\n",
        "\n",
        "y_train = np.array([0.14, 0.20, 0.26, 0.38, 0.22, 0.28, 0.34, 0.40, 0.22])\n",
        "\n",
        "X_test = np.array([[0.6, 0.7, 0.8],\n",
        "                    [0.7, 0.8, 0.9]])\n",
        "y_test = np.array([0.44, 0.50])\n",
        "\n",
        "np.random.seed(0)\n",
        "weights = np.random.rand(3)\n",
        "bias = np.random.rand(1)\n",
        "learning_rate = 0.01\n",
        "epochs = 1000\n",
        "\n",
        "for epoch in range(epochs):\n",
        "    output = np.dot(X_train, weights) + bias\n",
        "    error = output - y_train\n",
        "    mse = np.mean(error ** 2)\n",
        "    d_output = 2 * error\n",
        "    d_weights = np.dot(X_train.T, d_output)\n",
        "    d_bias = np.sum(d_output, axis=0, keepdims=True)\n",
        "    weights -= learning_rate * d_weights\n",
        "    bias -= learning_rate * d_bias\n",
        "\n",
        "test_output = np.dot(X_test, weights) + bias\n",
        "test_mse = np.mean((test_output - y_test) ** 2)\n",
        "\n",
        "print(\"Mean Squared Error on Training Data: \", mse)\n",
        "print(\"Mean Squared Error on Test Data: \", test_mse)\n",
        "\n",
        "user_input = np.array([float(x) for x in input(\"Enter three numbers separated by space: \").split()])\n",
        "prediction = np.dot(user_input, weights) + bias\n",
        "print(\"Predicted output: \", prediction)"
      ],
      "metadata": {
        "colab": {
          "base_uri": "https://localhost:8080/"
        },
        "id": "1VSiwxuaERxc",
        "outputId": "21bd2935-b640-49a7-bdd7-e7f4b8ee39cb"
      },
      "execution_count": 7,
      "outputs": [
        {
          "output_type": "stream",
          "name": "stdout",
          "text": [
            "Mean Squared Error on Training Data:  6.461155629091917e-07\n",
            "Mean Squared Error on Test Data:  3.355917456997702e-06\n",
            "Enter three numbers separated by space: 0.6 0.7 0.8\n",
            "Predicted output:  [0.44169033]\n"
          ]
        }
      ]
    },
    {
      "cell_type": "code",
      "source": [
        "import numpy as np\n",
        "def sigmoid(x):\n",
        "    return 1 / (1 + np.exp(-x))\n",
        "\n",
        "def sigmoid_derivative(x):\n",
        "    return x * (1 - x)\n",
        "\n",
        "def mse(y_true, y_pred):\n",
        "    return np.mean((y_true - y_pred) ** 2)\n",
        "\n",
        "np.random.seed(42)\n",
        "weights = np.random.rand(3)\n",
        "bias = np.random.rand()\n",
        "\n",
        "X_train = np.array([\n",
        "    [0.1, 0.2, 0.3],\n",
        "    [0.2, 0.3, 0.4],\n",
        "    [0.3, 0.4, 0.5],\n",
        "    [0.5, 0.6, 0.7],\n",
        "    [0.1, 0.3, 0.5],\n",
        "    [0.2, 0.4, 0.6],\n",
        "    [0.3, 0.5, 0.7],\n",
        "    [0.4, 0.6, 0.8],\n",
        "    [0.5, 0.7, 0.1]\n",
        "])\n",
        "y_train = np.array([0.5349, 0.5498, 0.5646, 0.5939, 0.5548, 0.5695, 0.5842, 0.5987, 0.5548])\n",
        "\n",
        "learning_rate = 0.1\n",
        "epochs = 10000\n",
        "\n",
        "for epoch in range(epochs):\n",
        "    weighted_sum = np.dot(X_train, weights) + bias\n",
        "    y_pred = sigmoid(weighted_sum)\n",
        "    error = y_train - y_pred\n",
        "    gradient = error * sigmoid_derivative(y_pred)\n",
        "    weights += learning_rate * np.dot(X_train.T, gradient)\n",
        "    bias += learning_rate * np.sum(gradient)\n",
        "\n",
        "    if epoch % 1000 == 0:\n",
        "        print(f\"Epoch {epoch}, Training MSE: {mse(y_train, y_pred):.6f}\")\n",
        "\n",
        "X_test = np.array([[0.6, 0.7, 0.8], [0.7, 0.8, 0.9]])\n",
        "y_test = np.array([0.6083, 0.6225])\n",
        "y_test_pred = sigmoid(np.dot(X_test, weights) + bias)\n",
        "print(f\"\\nTest MSE: {mse(y_test, y_test_pred):.6f}\")\n",
        "\n",
        "def predict():\n",
        "    user_input = input(\"Enter x1 x2 x3 (separated by spaces): \")\n",
        "    x1, x2, x3 = map(float, user_input.strip().split())\n",
        "    user_x = np.array([x1, x2, x3])\n",
        "    output = sigmoid(np.dot(user_x, weights) + bias)\n",
        "    print(f\"Predicted Output: {output:.4f}\")\n",
        "\n",
        "predict()"
      ],
      "metadata": {
        "colab": {
          "base_uri": "https://localhost:8080/"
        },
        "id": "GmtqWBc1Ol5_",
        "outputId": "f12047e9-5c9a-47fd-f4e8-b16981353dae"
      },
      "execution_count": 19,
      "outputs": [
        {
          "output_type": "stream",
          "name": "stdout",
          "text": [
            "Epoch 0, Training MSE: 0.061706\n",
            "Epoch 1000, Training MSE: 0.000011\n",
            "Epoch 2000, Training MSE: 0.000003\n",
            "Epoch 3000, Training MSE: 0.000003\n",
            "Epoch 4000, Training MSE: 0.000003\n",
            "Epoch 5000, Training MSE: 0.000002\n",
            "Epoch 6000, Training MSE: 0.000002\n",
            "Epoch 7000, Training MSE: 0.000002\n",
            "Epoch 8000, Training MSE: 0.000002\n",
            "Epoch 9000, Training MSE: 0.000001\n",
            "\n",
            "Test MSE: 0.000004\n",
            "Enter x1 x2 x3 (separated by spaces): 0.6 0.7 0.8\n",
            "Predicted Output: 0.6063\n"
          ]
        }
      ]
    }
  ]
}