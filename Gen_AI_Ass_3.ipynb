{
  "nbformat": 4,
  "nbformat_minor": 0,
  "metadata": {
    "colab": {
      "provenance": [],
      "authorship_tag": "ABX9TyOT6DhpQmS5MUPWlPF7XMSD",
      "include_colab_link": true
    },
    "kernelspec": {
      "name": "python3",
      "display_name": "Python 3"
    },
    "language_info": {
      "name": "python"
    }
  },
  "cells": [
    {
      "cell_type": "markdown",
      "metadata": {
        "id": "view-in-github",
        "colab_type": "text"
      },
      "source": [
        "<a href=\"https://colab.research.google.com/github/VishnuDattu/Generative-AI/blob/main/Gen_AI_Ass_3.ipynb\" target=\"_parent\"><img src=\"https://colab.research.google.com/assets/colab-badge.svg\" alt=\"Open In Colab\"/></a>"
      ]
    },
    {
      "cell_type": "code",
      "execution_count": 2,
      "metadata": {
        "colab": {
          "base_uri": "https://localhost:8080/"
        },
        "id": "TWjUIvlp9hQv",
        "outputId": "b937ffb1-e69a-4641-b142-bcae93227b27"
      },
      "outputs": [
        {
          "output_type": "stream",
          "name": "stdout",
          "text": [
            "Converged in 1 iterations.\n",
            "The minimum value of f(x): 10.000000\n"
          ]
        }
      ],
      "source": [
        "def f(x):\n",
        "    return 5 * x**4 + 3 * x**2 + 10\n",
        "def f_prime(x):\n",
        "    return 20 * x**3 + 6 * x\n",
        "def gradient_descent(learning_rate, tolerance, max_iterations):\n",
        "    x = 0\n",
        "    for iteration in range(max_iterations):\n",
        "        gradient = f_prime(x)\n",
        "        new_x = x - learning_rate * gradient\n",
        "\n",
        "        if abs(new_x - x) < tolerance:\n",
        "            print(f\"Converged in {iteration + 1} iterations.\")\n",
        "            return new_x\n",
        "            x = new_x\n",
        "            print(\"Reached maximum iterations without full convergence.\")\n",
        "            return x\n",
        "learning_rate = 0.01\n",
        "max_iterations = 10000\n",
        "tolerance = 1e-6\n",
        "x_min = gradient_descent(learning_rate, tolerance, max_iterations)\n",
        "print(f\"The minimum value of f(x): {f(x_min):.6f}\")\n"
      ]
    },
    {
      "cell_type": "code",
      "source": [
        "def g(x, y):\n",
        "    return 3 * x**2 + 5 * (2.71828**(-y)) + 10\n",
        "\n",
        "def g_partial_x(x, y):\n",
        "    return 6 * x\n",
        "\n",
        "def g_partial_y(x, y):\n",
        "    return -5 * (2.71828**(-y))\n",
        "\n",
        "def gradient_descent_2d(learning_rate, tolerance, max_iterations):\n",
        "    x, y = 0, 0\n",
        "    for iteration in range(max_iterations):\n",
        "        grad_x = g_partial_x(x, y)\n",
        "        grad_y = g_partial_y(x, y)\n",
        "\n",
        "        new_x = x - learning_rate * grad_x\n",
        "        new_y = y - learning_rate * grad_y\n",
        "        if abs(new_x - x) < tolerance and abs(new_y - y) < tolerance:\n",
        "            print(f\"Converged in {iteration + 1} iterations.\")\n",
        "            return new_x, new_y\n",
        "\n",
        "        x, y = new_x, new_y\n",
        "\n",
        "    print(\"Reached maximum iterations without full convergence.\")\n",
        "    return x, y\n",
        "\n",
        "learning_rate = 0.01\n",
        "max_iterations = 10000\n",
        "tolerance = 1e-6\n",
        "x_min, y_min = gradient_descent_2d(learning_rate, tolerance, max_iterations)\n",
        "print(f\"The values of x and y at which g(x, y) is minimized: x = {x_min:.6f}, y = {y_min:.6f}\")\n",
        "print(f\"The minimum value of g(x, y): {g(x_min, y_min):.6f}\")"
      ],
      "metadata": {
        "colab": {
          "base_uri": "https://localhost:8080/"
        },
        "id": "ej0sZVo8EVfZ",
        "outputId": "369044f3-0b8c-4555-fcbe-4dc8e5a89f72"
      },
      "execution_count": 3,
      "outputs": [
        {
          "output_type": "stream",
          "name": "stdout",
          "text": [
            "Reached maximum iterations without full convergence.\n",
            "The values of x and y at which g(x, y) is minimized: x = 0.000000, y = 6.216921\n",
            "The minimum value of g(x, y): 10.009977\n"
          ]
        }
      ]
    },
    {
      "cell_type": "code",
      "source": [
        "def z(x):\n",
        "    return 1 / (1 + 2.71828**(-x))\n",
        "def z_prime(x):\n",
        "    sigmoid = z(x)\n",
        "    return sigmoid * (1 - sigmoid)\n",
        "\n",
        "def gradient_descent(learning_rate, tolerance, max_iterations):\n",
        "    x = 0\n",
        "    for iteration in range(max_iterations):\n",
        "        gradient = z_prime(x)\n",
        "        new_x = x - learning_rate * gradient\n",
        "        if abs(new_x - x) < tolerance:\n",
        "            print(f\"Converged in {iteration + 1} iterations.\")\n",
        "            return new_x\n",
        "\n",
        "        x = new_x\n",
        "\n",
        "    print(\"Reached maximum iterations without full convergence.\")\n",
        "    return x\n",
        "\n",
        "learning_rate = 0.01\n",
        "max_iterations = 10000\n",
        "tolerance = 1e-6\n",
        "x_min = gradient_descent(learning_rate, tolerance, max_iterations)\n",
        "print(f\"The value of x at which z(x) is minimized: {x_min:.6f}\")\n",
        "print(f\"The minimum value of z(x): {z(x_min):.6f}\")\n"
      ],
      "metadata": {
        "colab": {
          "base_uri": "https://localhost:8080/"
        },
        "id": "9UtKmi1-Ei94",
        "outputId": "8471ee93-9070-4f5b-bac9-9dfdb787073d"
      },
      "execution_count": 4,
      "outputs": [
        {
          "output_type": "stream",
          "name": "stdout",
          "text": [
            "Reached maximum iterations without full convergence.\n",
            "The value of x at which z(x) is minimized: -4.510916\n",
            "The minimum value of z(x): 0.010869\n"
          ]
        }
      ]
    },
    {
      "cell_type": "code",
      "source": [
        "def predicted_output(input_value, M, C):\n",
        "    return input_value * M + C\n",
        "\n",
        "def square_error(input_value, M, C, expected_output):\n",
        "    predicted = predicted_output(input_value, M, C)\n",
        "    return (expected_output - predicted) ** 2\n",
        "\n",
        "def se_partial_M(input_value, M, C, expected_output):\n",
        "    predicted = predicted_output(input_value, M, C)\n",
        "    return -2 * input_value * (expected_output - predicted)\n",
        "\n",
        "def se_partial_C(input_value, M, C, expected_output):\n",
        "    predicted = predicted_output(input_value, M, C)\n",
        "    return -2 * (expected_output - predicted)\n",
        "\n",
        "def gradient_descent(input_value, expected_output, learning_rate, tolerance, max_iterations):\n",
        "    M, C = 0, 0\n",
        "    for iteration in range(max_iterations):\n",
        "        grad_M = se_partial_M(input_value, M, C, expected_output)\n",
        "        grad_C = se_partial_C(input_value, M, C, expected_output)\n",
        "\n",
        "        new_M = M - learning_rate * grad_M\n",
        "        new_C = C - learning_rate * grad_C\n",
        "        if abs(new_M - M) < tolerance and abs(new_C - C) < tolerance:\n",
        "            print(f\"Converged in {iteration + 1} iterations.\")\n",
        "            return new_M, new_C\n",
        "\n",
        "        M, C = new_M, new_C\n",
        "\n",
        "    print(\"Reached maximum iterations without full convergence.\")\n",
        "    return M, C\n",
        "\n",
        "input_value = 2\n",
        "expected_output = 0.5\n",
        "learning_rate = 0.01\n",
        "tolerance = 1e-6\n",
        "max_iterations = 10000\n",
        "optimal_M, optimal_C = gradient_descent(input_value, expected_output, learning_rate, tolerance, max_iterations)\n",
        "print(f\"Optimal values: M = {optimal_M:.6f}, C = {optimal_C:.6f}\")\n",
        "predicted = predicted_output(input_value, optimal_M, optimal_C)\n",
        "print(f\"Predicted output: {predicted:.6f}\")\n",
        "print(f\"Square Error: {square_error(input_value, optimal_M, optimal_C, expected_output):.6f}\")\n"
      ],
      "metadata": {
        "colab": {
          "base_uri": "https://localhost:8080/"
        },
        "id": "E8ltsITzEne4",
        "outputId": "9a947ec2-dac0-452f-9a43-7583cfddeeb6"
      },
      "execution_count": 5,
      "outputs": [
        {
          "output_type": "stream",
          "name": "stdout",
          "text": [
            "Converged in 95 iterations.\n",
            "Optimal values: M = 0.199991, C = 0.099996\n",
            "Predicted output: 0.499978\n",
            "Square Error: 0.000000\n"
          ]
        }
      ]
    }
  ]
}